{
 "cells": [
  {
   "cell_type": "markdown",
   "metadata": {
    "id": "eIRhc7drd8AY"
   },
   "source": [
    "# 50.040 Natural Language Processing (Fall 2024) Final Project (100 Points)\n",
    "\n",
    "**DUE DATE: 13 December 2024**\n",
    "\n",
    "Final project will be graded by Chen Huang"
   ]
  },
  {
   "cell_type": "markdown",
   "metadata": {
    "id": "FsCU5Q_6d8Ac"
   },
   "source": [
    "\n",
    "# Group Information (Fill before you start)\n",
    "\n",
    "**Group Name:**\n",
    "\n",
    "**Name(STUDNET ID) (2-3 person):**\n",
    "\n",
    "**Please also rename the final submitted pdf as ``finalproject_[GROUP_NAME].pdf``**\n",
    "\n",
    "**-1 points if info not filled or file name not adjusted before submission, -100 points if you copy other's answer. We encourage discussion, but please do not copy without thinking.**"
   ]
  },
  {
   "cell_type": "markdown",
   "metadata": {
    "colab_type": "text",
    "id": "bDOUuC7-CdX-"
   },
   "source": [
    "## [!] Please read this if your computer does not have GPUs.\n",
    "### Free GPU Resources\n",
    "We suggest that you run neural language models on machines with GPU(s). Google provides the free online platform [Colaboratory](https://colab.research.google.com/notebooks/welcome.ipynb), a research tool for machine learning education and research. It’s a Jupyter notebook environment that requires no setup to use as common packages have been  pre-installed. Google users can have access to a Tesla T4 GPU (approximately 15G memory). Note that when you connect to a GPU-based VM runtime, you are given a maximum of 12 hours at a time on the VM.\n",
    "\n",
    "Colab is web-based, fast and convinient. You can simply upload this notebook and run it online. For the database needed in this task, you can download it and upload to colab OR you can save it in your google drive and link it with the colab.\n",
    "\n",
    "It is convenient to upload local Jupyter Notebook files and data to Colab, please refer to the [tutorial](https://colab.research.google.com/notebooks/io.ipynb). \n",
    "\n",
    "In addition, Microsoft also provides the online platform [Azure Notebooks](https://notebooks.azure.com/help/introduction) for research of data science and machine learning, there are free trials for new users with credits."
   ]
  },
  {
   "cell_type": "markdown",
   "metadata": {
    "colab_type": "text",
    "id": "V0iF5uWcCdXV"
   },
   "source": [
    "# Instructions\n",
    "Please read the following instructions carefully before you begin this project:\n",
    "\n",
    "- This is a group project. You are allowed to form groups in any way you like, but each group must consist of either 2 or 3 people. Please submit your group information to eDimension as soon as possible if you have not yet done so (the deadline was 11th October 2024).\n",
    "\n",
    "- Each group should submit code along with a report summarizing your work, and provide clear instructions on how to run your code. Additionally, please submit your system's outputs. The output should be in the same column format as the training set.\n",
    "\n",
    "- You are given **8** weeks to work on the project. We understand this is a busy time during your final term, so Week **13** will be reserved as the \"Final Project Week\" for you to focus on the project (i.e., there will be no classes that week). Please plan and manage your time well.\n",
    "\n",
    "- Please use Python to complete this project."
   ]
  },
  {
   "cell_type": "markdown",
   "metadata": {},
   "source": [
    "# Project Summary\n",
    "Welcome to the design project for our natural language processing (NLP) course offered at SUTD!\n",
    "\n",
    "In this project, you will undertake an NLP task in _sentiment analysis_. We will begin by guiding you through data understanding, pre-processing, and instructing you to construct RNN and CNN models for the task. Afterward, you are encouraged to develop your own model to improve the results. The final test set will be released on **11 December 2024 at 5pm** (48 hours before the final project deadline). You will use your own system to generate the outputs. The system with the highest F1 score will be announced as the winner for each challenge. If no clear winner emerges from the test set results, further analysis or evaluations may be conducted."
   ]
  },
  {
   "cell_type": "markdown",
   "metadata": {
    "colab_type": "text",
    "id": "F5wC4lqKCdXW"
   },
   "source": [
    "# Task Introduction and Data pre-processing (20 points)\n",
    "## Sentiment Analysis\n",
    "With the proliferation of online social media and review platforms, vast amounts of opinionated data have been generated, offering immense potential to support decision-making processes. Sentiment analysis examines people's sentiments expressed in text, such as product reviews, blog comments, and forum discussions. It finds wide applications in diverse fields, including politics (e.g., analyzing public sentiment towards policies), finance (e.g., evaluating market sentiments), and marketing (e.g., product research and brand management).\n",
    "\n",
    "Since sentiments can often be categorized into discrete polarities or scales (e.g., positive or negative), sentiment analysis can be framed as a text classification task. This task involves transforming text sequences of varying lengths into fixed-length categorical labels. \n",
    "\n",
    "## Data pre-processing hiiiiiiii\n",
    "\n",
    "In this project, we will utilize [Stanford's large movie review dataset](https://ai.stanford.edu/%7Eamaas/data/sentiment/) for sentiment analysis. The dataset consists of a training set and a testing set, each containing 25,000 movie reviews sourced from IMDb. Both datasets have an equal number of \"positive\" and \"negative\" labels, representing different sentiment polarities. Please download and extract this IMDb review dataset in the path `../data/aclImdb`.\n",
    "\n",
    "*Hints*: While the following instructions are based on a split of 25,000 for training and 25,000 for testing, you are free to choose your own dataset split, as we will provide a separate test set for the final evaluation. However, any changes you make to the default split must be clearly indicated in your report. Failure to explicitly mention such modifications may result in a penalty.\n",
    "\n"
   ]
  },
  {
   "cell_type": "code",
   "execution_count": 1,
   "metadata": {},
   "outputs": [
    {
     "name": "stdout",
     "output_type": "stream",
     "text": [
      "sa oot sopo\n"
     ]
    }
   ],
   "source": [
    "print('sa oot sopo')\n",
    "import os\n",
    "import torch\n",
    "from torch import nn\n",
    "from d2l import torch as d2l # You can skip this if you have trouble with this package, all d2l-related codes can be replaced by torch functions."
   ]
  },
  {
   "cell_type": "code",
   "execution_count": 3,
   "metadata": {},
   "outputs": [],
   "source": [
    "# Skip this if you have already downloaded the dataset\n",
    "d2l.DATA_HUB['aclImdb'] = (d2l.DATA_URL + 'aclImdb_v1.tar.gz',\n",
    "                          '01ada507287d82875905620988597833ad4e0903')\n",
    "\n",
    "data_dir = d2l.download_extract('aclImdb', 'aclImdb')"
   ]
  },
  {
   "cell_type": "markdown",
   "metadata": {},
   "source": [
    "# Questions"
   ]
  },
  {
   "cell_type": "markdown",
   "metadata": {
    "colab_type": "text",
    "id": "G0vxL-WpCdXX"
   },
   "source": [
    "### Question 1 [code] **(5 points)** \n",
    "Complete the function ``read_imdb``, which reads the IMDb review dataset text sequences and labels. Then, run the sanity check cell to check your implementation."
   ]
  },
  {
   "cell_type": "code",
   "execution_count": 4,
   "metadata": {
    "colab": {},
    "colab_type": "code",
    "id": "TOyoT-QiCdXY"
   },
   "outputs": [],
   "source": [
    "#@save\n",
    "def read_imdb(data_dir, is_train):\n",
    "    \"\"\"Read the IMDb review dataset text sequences and labels.\"\"\"\n",
    "    ### YOUR CODE HERE\n",
    "    data, labels = [], []\n",
    "\n",
    "    for label in ('pos', 'neg'): # label is either 'pos' or 'neg'\n",
    "        folder_name = os.path.join(data_dir, 'train' if is_train else 'test', label) # folder_name is either 'train/pos' or 'train/neg' or 'test/pos' or 'test/neg'\n",
    "\n",
    "        for file in os.listdir(folder_name):\n",
    "            with open(os.path.join(folder_name, file), 'rb') as f:\n",
    "                review = f.read().decode('utf-8').replace('\\n', '')\n",
    "                data.append(review)\n",
    "                labels.append(1 if label == 'pos' else 0)\n",
    "\n",
    "    ### END OF YOUR CODE\n",
    "    return data, labels\n",
    "\n",
    "\n"
   ]
  },
  {
   "cell_type": "code",
   "execution_count": 5,
   "metadata": {},
   "outputs": [
    {
     "name": "stdout",
     "output_type": "stream",
     "text": [
      "# trainings: 25000\n",
      "label: 1 review: For a movie that gets no respect there sure are a lot of mem\n",
      "label: 1 review: Bizarre horror movie filled with famous faces but stolen by \n",
      "label: 1 review: A solid, if unremarkable film. Matthau, as Einstein, was won\n"
     ]
    }
   ],
   "source": [
    "# Sanity check\n",
    "train_data = read_imdb(data_dir, is_train=True)\n",
    "print('# trainings:', len(train_data[0]))\n",
    "for x, y in zip(train_data[0][:3], train_data[1][:3]):\n",
    "    print('label:', y, 'review:', x[:60])"
   ]
  },
  {
   "cell_type": "markdown",
   "metadata": {},
   "source": [
    "### Question 2 [code] **(5 points)** \n",
    "Treating each word as a token and filtering out words that appear less than 5 times, we create a vocabulary out of the training dataset. After tokenization, please plot the histogram of review lengths in tokens. (Hint: you can use ``matplotlib`` package to draw the histogram.) Then, run the sanity check cell to check your implementation."
   ]
  },
  {
   "cell_type": "code",
   "execution_count": 7,
   "metadata": {},
   "outputs": [],
   "source": [
    "train_tokens = d2l.tokenize(train_data[0], token='word') \n",
    "# Tokenize the training reviews, return a list of token lists\n",
    "# Each token list corresponds to a review\n",
    "\n",
    "vocab = d2l.Vocab(train_tokens, min_freq=5, reserved_tokens=['<pad>'])\n",
    " # Create a vocabulary for the tokens, only include the tokens that appear at least 5 times in the training reviews\n",
    " # Pad token '<pad>' is used to pad the sequence to a fixed length\n",
    " # Padding is done to make the sequence length the same for all reviews, it helps with the batching of reviews"
   ]
  },
  {
   "cell_type": "code",
   "execution_count": 11,
   "metadata": {},
   "outputs": [
    {
     "data": {
      "text/plain": [
       "(array([  0.,   0.,   0.,   0.,   0.,   0.,   0.,   0.,   0.,   0.,   2.,\n",
       "          1.,   2.,   0.,   1.,   1.,   0.,   2.,   2.,   1.,   1.,   1.,\n",
       "          2.,   3.,   3.,   4.,   4.,   5.,  10.,   4.,   6.,   5.,   9.,\n",
       "         11.,  17.,   8.,  19.,  14.,  18.,  21.,  22.,  28.,  42.,  42.,\n",
       "         43.,  28.,  43.,  43.,  31.,  54.,  51.,  46.,  41.,  47.,  48.,\n",
       "         52.,  49.,  54.,  49.,  46.,  62.,  46.,  37.,  52.,  43.,  34.,\n",
       "         35.,  49.,  37.,  54.,  53.,  54.,  51.,  41.,  37.,  46.,  58.,\n",
       "         46.,  49.,  51.,  39.,  42.,  56.,  59.,  46.,  42.,  37.,  47.,\n",
       "         49.,  47.,  56.,  42.,  47.,  36.,  52.,  59.,  52.,  57.,  44.,\n",
       "         46.,  56.,  71.,  64.,  71.,  68.,  65.,  59.,  93., 106.,  95.,\n",
       "        104., 110., 121., 120., 122., 132., 116., 163., 148., 177., 155.,\n",
       "        155., 173., 187., 181., 162., 170., 185., 184., 182., 176., 167.,\n",
       "        157., 187., 147., 158., 155., 145., 172., 145., 163., 133., 153.,\n",
       "        133., 152., 150., 152., 125., 127., 128., 134., 141., 119., 113.,\n",
       "        145., 114., 116., 124., 115.,  93., 107., 110.,  99., 108., 107.,\n",
       "        104., 110.,  95., 101., 129., 117., 109.,  86.,  98.,  93.,  66.,\n",
       "         75., 107.,  95., 102.,  88.,  89.,  83.,  83.,  91.,  84.,  74.,\n",
       "         98.,  91.,  71.,  84.,  72.,  68.,  71.,  71.,  65.,  86.,  73.,\n",
       "         72.,  88.,  68.,  83.,  63.,  64.,  73.,  50.,  67.,  61.,  58.,\n",
       "         63.,  48.,  64.,  59.,  69.,  56.,  71.,  60.,  62.,  61.,  62.,\n",
       "         62.,  59.,  47.,  51.,  40.,  52.,  59.,  52.,  61.,  56.,  55.,\n",
       "         48.,  53.,  55.,  56.,  53.,  59.,  43.,  51.,  51.,  36.,  55.,\n",
       "         46.,  54.,  48.,  51.,  59.,  52.,  46.,  45.,  46.,  53.,  40.,\n",
       "         52.,  34.,  45.,  41.,  35.,  41.,  39.,  36.,  52.,  43.,  43.,\n",
       "         47.,  26.,  47.,  48.,  38.,  38.,  32.,  36.,  38.,  38.,  35.,\n",
       "         34.,  28.,  31.,  45.,  27.,  38.,  30.,  30.,  43.,  27.,  39.,\n",
       "         22.,  43.,  33.,  32.,  28.,  41.,  36.,  34.,  29.,  31.,  35.,\n",
       "         31.,  32.,  26.,  36.,  34.,  25.,  33.,  23.,  31.,  42.,  38.,\n",
       "         37.,  28.,  27.,  30.,  30.,  33.,  38.,  37.,  29.,  26.,  20.,\n",
       "         15.,  32.,  29.,  23.,  28.,  28.,  26.,  26.,  25.,  31.,  30.,\n",
       "         25.,  28.,  25.,  23.,  29.,  29.,  18.,  23.,  30.,  19.,  29.,\n",
       "         31.,  32.,  20.,  27.,  23.,  24.,  20.,  19.,  16.,  19.,  32.,\n",
       "         25.,  25.,  24.,  24.,  30.,  28.,  22.,  22.,  23.,  24.,  18.,\n",
       "         28.,  21.,  24.,  31.,  21.,  16.,  19.,  27.,  16.,  25.,  23.,\n",
       "         17.,  22.,  23.,  25.,  14.,  17.,  15.,  13.,  13.,  14.,  21.,\n",
       "         22.,   9.,  16.,  19.,  15.,  19.,   8.,  19.,  22.,  15.,  18.,\n",
       "         15.,  10.,  15.,  22.,  17.,  17.,  16.,  21.,  18.,  14.,  17.,\n",
       "         14.,  16.,  21.,  25.,  13.,  21.,  17.,  16.,  11.,  13.,  11.,\n",
       "         17.,  14.,  20.,  19.,  12.,  14.,  12.,  12.,  15.,  22.,  18.,\n",
       "         17.,  13.,  15.,  13.,  18.,   8.,  17.,  21.,  16.,  12.,  18.,\n",
       "         15.,  14.,  11.,  11.,   9.,  10.,  15.,   9.,  10.,  14.,  11.,\n",
       "         13.,  11.,  11.,  14.,  15.,  12.,  14.,  16.,  14.,  13.,  18.,\n",
       "          9.,   7.,  10.,  13.,  12.,  18.,  15.,  13.,  12.,  22.,  11.,\n",
       "         10.,  12.,   9.,  15.,  12.,   6.,  11.,  12.,  14.,  12.,   7.,\n",
       "         16.,  14.,  19.,   9.,   4.,   9.,  11.,   9.,   8.,   6.,   8.,\n",
       "         11.,   9.,   9.,   8.,   7.,  12.,  12.,   6.,  10.,  14.,  10.,\n",
       "         15.,  11.,   6.,   6.,  12.,   8.,   5.,   7.,   7.,  10.,   9.,\n",
       "         10.,  13.,   6.,  12.,   6.,   6.,  10.,   5.,  15.,  12.,  12.,\n",
       "          9.,   5.,   8.,  11.,   8.,  10.,  12.,   7.,   4.,   7.,   6.,\n",
       "          6.,   7.,   7.,   6.,   8.,  10.,   9.,  10.,   4.,  10.,   6.,\n",
       "          5.,   6.,  12.,   4.,  10.,   6.,   9.,   8.,   5.,  12.,   8.,\n",
       "          9.,   6.,  10.,   2.,   8.,   5.,   6.,   5.,  13.,  13.,   4.,\n",
       "          5.,   7.,   3.,  11.,   6.,   7.,   5.,   2.,   6.,   8.,   8.,\n",
       "          6.,   7.,   6.,  12.,   8.,   9.,   4.,   7.,  11.,   5.,   8.,\n",
       "          4.,   7.,   6.,   5.,   5.,   5.,   5.,   5.,   8.,   4.,   3.,\n",
       "          5.,   7.,   8.,   6.,   4.,   4.,   4.,   7.,   6.,   3.,   9.,\n",
       "          4.,  10.,   8.,   7.,   3.,   6.,   9.,   4.,   3.,   7.,   7.,\n",
       "          3.,   4.,   5.,   3.,   2.,   7.,   3.,   7.,  11.,   6.,   4.,\n",
       "          3.,   5.,   3.,   6.,   3.,   4.,   3.,   4.,   4.,   2.,   3.,\n",
       "          6.,   5.,   6.,   6.,   1.,   3.,   3.,   3.,   7.,   4.,   5.,\n",
       "          4.,   3.,   2.,   3.,   6.,   6.,   2.,   5.,   6.,   5.,   5.,\n",
       "          6.,   4.,   5.,   8.,   4.,   2.,   4.,   1.,   4.,   5.,   4.,\n",
       "          2.,   3.,   3.,   7.,   7.,   6.,   7.,   3.,   4.,   4.,   3.,\n",
       "          5.,   1.,   4.,   4.,   3.,   1.,   3.,   6.,   5.,   5.,   5.,\n",
       "          4.,   2.,   6.,   2.,   3.,   5.,   4.,   3.,   5.,   5.,   6.,\n",
       "          5.,   4.,   3.,   0.,   2.,   2.,   6.,   3.,   2.,   6.,   1.,\n",
       "          3.,   3.,   4.,   2.,   4.,   1.,   5.,   7.,   3.,   5.,   3.,\n",
       "          3.,   1.,   4.,   2.,   2.,   0.,   2.,   2.,   3.,   6.,   3.,\n",
       "          3.,   3.,   4.,   4.,   2.,   2.,   4.,   4.,   5.,   3.,   2.,\n",
       "          3.,   2.,   4.,   2.,   2.,   1.,   6.,   6.,   2.,   3.,   1.,\n",
       "          0.,   5.,   1.,   3.,   1.,   3.,   1.,   2.,   1.,   3.,   2.,\n",
       "          2.,   1.,   1.,   2.,   6.,   2.,   4.,   2.,   4.,   4.,   4.,\n",
       "          0.,   3.,   2.,   2.,   1.,   2.,   1.,   6.,   3.,   5.,   3.,\n",
       "          2.,   4.,   3.,   2.,   3.,   2.,   1.,   1.,   5.,   0.,   7.,\n",
       "          1.,   3.,   4.,   3.,   2.,   2.,   1.,   4.,   1.,   3.,   2.,\n",
       "          7.,   0.,   3.,   1.,   1.,   2.,   1.,   4.,   2.,   4.,   1.,\n",
       "          3.,   4.,   3.,   0.,   1.,   1.,   0.,   4.,   1.,   2.,   1.,\n",
       "          0.,   1.,   2.,   1.,   1.,   2.,   2.,   3.,   2.,   3.,   2.,\n",
       "          2.,   4.,   1.,   1.,   0.,   3.,   1.,   1.,   3.,   1.,   0.,\n",
       "          2.,   0.,   2.,   1.,   2.,   4.,   0.,   1.,   2.,   4.,   1.,\n",
       "          1.,   0.,   2.,   5.,   2.,   1.,   0.,   1.,   1.,   2.,   4.,\n",
       "          2.,   3.,   1.,   1.,   1.,   1.,   0.,   3.,   2.,   3.,   1.,\n",
       "          1.,   2.,   0.,   1.,   2.,   0.,   5.,   2.,   2.,   2.,   0.,\n",
       "          2.,   0.,   0.,   2.,   5.,   2.,   3.,   1.,   0.,   0.,   2.,\n",
       "          2.,   0.,   0.,   2.,   2.,   1.,   2.,   3.,   0.,   3.,   0.,\n",
       "          0.,   1.,   2.,   1.,   3.,   1.,   1.,   1.,   0.,   2.,   2.,\n",
       "          1.,   5.,   0.,   1.,   1.,   2.,   0.,   4.,   1.,   0.,   2.,\n",
       "          2.,   0.,   2.,   2.,   4.,   3.,   1.,   4.,   1.,   3.,   3.,\n",
       "          3.,   2.,   2.,   0.,   2.,   3.,   4.,   4.,   4.,   4.,   4.,\n",
       "          2.,   1.,   3.,   2.,   1.,   3.,   1.,   2.,   1.,   3.,   6.,\n",
       "          3.,   4.,   5.,   6.,   1.,   5.,   6.,   4.,  12.]),\n",
       " array([  0.,   1.,   2.,   3.,   4.,   5.,   6.,   7.,   8.,   9.,  10.,\n",
       "         11.,  12.,  13.,  14.,  15.,  16.,  17.,  18.,  19.,  20.,  21.,\n",
       "         22.,  23.,  24.,  25.,  26.,  27.,  28.,  29.,  30.,  31.,  32.,\n",
       "         33.,  34.,  35.,  36.,  37.,  38.,  39.,  40.,  41.,  42.,  43.,\n",
       "         44.,  45.,  46.,  47.,  48.,  49.,  50.,  51.,  52.,  53.,  54.,\n",
       "         55.,  56.,  57.,  58.,  59.,  60.,  61.,  62.,  63.,  64.,  65.,\n",
       "         66.,  67.,  68.,  69.,  70.,  71.,  72.,  73.,  74.,  75.,  76.,\n",
       "         77.,  78.,  79.,  80.,  81.,  82.,  83.,  84.,  85.,  86.,  87.,\n",
       "         88.,  89.,  90.,  91.,  92.,  93.,  94.,  95.,  96.,  97.,  98.,\n",
       "         99., 100., 101., 102., 103., 104., 105., 106., 107., 108., 109.,\n",
       "        110., 111., 112., 113., 114., 115., 116., 117., 118., 119., 120.,\n",
       "        121., 122., 123., 124., 125., 126., 127., 128., 129., 130., 131.,\n",
       "        132., 133., 134., 135., 136., 137., 138., 139., 140., 141., 142.,\n",
       "        143., 144., 145., 146., 147., 148., 149., 150., 151., 152., 153.,\n",
       "        154., 155., 156., 157., 158., 159., 160., 161., 162., 163., 164.,\n",
       "        165., 166., 167., 168., 169., 170., 171., 172., 173., 174., 175.,\n",
       "        176., 177., 178., 179., 180., 181., 182., 183., 184., 185., 186.,\n",
       "        187., 188., 189., 190., 191., 192., 193., 194., 195., 196., 197.,\n",
       "        198., 199., 200., 201., 202., 203., 204., 205., 206., 207., 208.,\n",
       "        209., 210., 211., 212., 213., 214., 215., 216., 217., 218., 219.,\n",
       "        220., 221., 222., 223., 224., 225., 226., 227., 228., 229., 230.,\n",
       "        231., 232., 233., 234., 235., 236., 237., 238., 239., 240., 241.,\n",
       "        242., 243., 244., 245., 246., 247., 248., 249., 250., 251., 252.,\n",
       "        253., 254., 255., 256., 257., 258., 259., 260., 261., 262., 263.,\n",
       "        264., 265., 266., 267., 268., 269., 270., 271., 272., 273., 274.,\n",
       "        275., 276., 277., 278., 279., 280., 281., 282., 283., 284., 285.,\n",
       "        286., 287., 288., 289., 290., 291., 292., 293., 294., 295., 296.,\n",
       "        297., 298., 299., 300., 301., 302., 303., 304., 305., 306., 307.,\n",
       "        308., 309., 310., 311., 312., 313., 314., 315., 316., 317., 318.,\n",
       "        319., 320., 321., 322., 323., 324., 325., 326., 327., 328., 329.,\n",
       "        330., 331., 332., 333., 334., 335., 336., 337., 338., 339., 340.,\n",
       "        341., 342., 343., 344., 345., 346., 347., 348., 349., 350., 351.,\n",
       "        352., 353., 354., 355., 356., 357., 358., 359., 360., 361., 362.,\n",
       "        363., 364., 365., 366., 367., 368., 369., 370., 371., 372., 373.,\n",
       "        374., 375., 376., 377., 378., 379., 380., 381., 382., 383., 384.,\n",
       "        385., 386., 387., 388., 389., 390., 391., 392., 393., 394., 395.,\n",
       "        396., 397., 398., 399., 400., 401., 402., 403., 404., 405., 406.,\n",
       "        407., 408., 409., 410., 411., 412., 413., 414., 415., 416., 417.,\n",
       "        418., 419., 420., 421., 422., 423., 424., 425., 426., 427., 428.,\n",
       "        429., 430., 431., 432., 433., 434., 435., 436., 437., 438., 439.,\n",
       "        440., 441., 442., 443., 444., 445., 446., 447., 448., 449., 450.,\n",
       "        451., 452., 453., 454., 455., 456., 457., 458., 459., 460., 461.,\n",
       "        462., 463., 464., 465., 466., 467., 468., 469., 470., 471., 472.,\n",
       "        473., 474., 475., 476., 477., 478., 479., 480., 481., 482., 483.,\n",
       "        484., 485., 486., 487., 488., 489., 490., 491., 492., 493., 494.,\n",
       "        495., 496., 497., 498., 499., 500., 501., 502., 503., 504., 505.,\n",
       "        506., 507., 508., 509., 510., 511., 512., 513., 514., 515., 516.,\n",
       "        517., 518., 519., 520., 521., 522., 523., 524., 525., 526., 527.,\n",
       "        528., 529., 530., 531., 532., 533., 534., 535., 536., 537., 538.,\n",
       "        539., 540., 541., 542., 543., 544., 545., 546., 547., 548., 549.,\n",
       "        550., 551., 552., 553., 554., 555., 556., 557., 558., 559., 560.,\n",
       "        561., 562., 563., 564., 565., 566., 567., 568., 569., 570., 571.,\n",
       "        572., 573., 574., 575., 576., 577., 578., 579., 580., 581., 582.,\n",
       "        583., 584., 585., 586., 587., 588., 589., 590., 591., 592., 593.,\n",
       "        594., 595., 596., 597., 598., 599., 600., 601., 602., 603., 604.,\n",
       "        605., 606., 607., 608., 609., 610., 611., 612., 613., 614., 615.,\n",
       "        616., 617., 618., 619., 620., 621., 622., 623., 624., 625., 626.,\n",
       "        627., 628., 629., 630., 631., 632., 633., 634., 635., 636., 637.,\n",
       "        638., 639., 640., 641., 642., 643., 644., 645., 646., 647., 648.,\n",
       "        649., 650., 651., 652., 653., 654., 655., 656., 657., 658., 659.,\n",
       "        660., 661., 662., 663., 664., 665., 666., 667., 668., 669., 670.,\n",
       "        671., 672., 673., 674., 675., 676., 677., 678., 679., 680., 681.,\n",
       "        682., 683., 684., 685., 686., 687., 688., 689., 690., 691., 692.,\n",
       "        693., 694., 695., 696., 697., 698., 699., 700., 701., 702., 703.,\n",
       "        704., 705., 706., 707., 708., 709., 710., 711., 712., 713., 714.,\n",
       "        715., 716., 717., 718., 719., 720., 721., 722., 723., 724., 725.,\n",
       "        726., 727., 728., 729., 730., 731., 732., 733., 734., 735., 736.,\n",
       "        737., 738., 739., 740., 741., 742., 743., 744., 745., 746., 747.,\n",
       "        748., 749., 750., 751., 752., 753., 754., 755., 756., 757., 758.,\n",
       "        759., 760., 761., 762., 763., 764., 765., 766., 767., 768., 769.,\n",
       "        770., 771., 772., 773., 774., 775., 776., 777., 778., 779., 780.,\n",
       "        781., 782., 783., 784., 785., 786., 787., 788., 789., 790., 791.,\n",
       "        792., 793., 794., 795., 796., 797., 798., 799., 800., 801., 802.,\n",
       "        803., 804., 805., 806., 807., 808., 809., 810., 811., 812., 813.,\n",
       "        814., 815., 816., 817., 818., 819., 820., 821., 822., 823., 824.,\n",
       "        825., 826., 827., 828., 829., 830., 831., 832., 833., 834., 835.,\n",
       "        836., 837., 838., 839., 840., 841., 842., 843., 844., 845., 846.,\n",
       "        847., 848., 849., 850., 851., 852., 853., 854., 855., 856., 857.,\n",
       "        858., 859., 860., 861., 862., 863., 864., 865., 866., 867., 868.,\n",
       "        869., 870., 871., 872., 873., 874., 875., 876., 877., 878., 879.,\n",
       "        880., 881., 882., 883., 884., 885., 886., 887., 888., 889., 890.,\n",
       "        891., 892., 893., 894., 895., 896., 897., 898., 899., 900., 901.,\n",
       "        902., 903., 904., 905., 906., 907., 908., 909., 910., 911., 912.,\n",
       "        913., 914., 915., 916., 917., 918., 919., 920., 921., 922., 923.,\n",
       "        924., 925., 926., 927., 928., 929., 930., 931., 932., 933., 934.,\n",
       "        935., 936., 937., 938., 939., 940., 941., 942., 943., 944., 945.,\n",
       "        946., 947., 948., 949., 950., 951., 952., 953., 954., 955., 956.,\n",
       "        957., 958., 959., 960., 961., 962., 963., 964., 965., 966., 967.,\n",
       "        968., 969., 970., 971., 972., 973., 974., 975., 976., 977., 978.,\n",
       "        979., 980., 981., 982., 983., 984., 985., 986., 987., 988., 989.,\n",
       "        990., 991., 992., 993., 994., 995., 996., 997., 998., 999.]),\n",
       " <BarContainer object of 999 artists>)"
      ]
     },
     "execution_count": 11,
     "metadata": {},
     "output_type": "execute_result"
    },
    {
     "data": {
      "image/png": "[encoded data removed]",
      "text/plain": [
       "<Figure size 640x480 with 1 Axes>"
      ]
     },
     "metadata": {},
     "output_type": "display_data"
    }
   ],
   "source": [
    "# train_tokens : list of list of tokens\n",
    "# vocab : Vocab object\n",
    "import matplotlib.pyplot as plt\n",
    "plt.hist([len(line) for line in train_tokens], bins=range(0, 1000, 1)) # Plot the histogram of the number of tokens in the reviews\n"
   ]
  },
  {
   "cell_type": "code",
   "execution_count": 12,
   "metadata": {},
   "outputs": [
    {
     "name": "stdout",
     "output_type": "stream",
     "text": [
      "torch.Size([25000, 500])\n"
     ]
    }
   ],
   "source": [
    "num_steps = 500  # sequence length\n",
    "train_features = torch.tensor([d2l.truncate_pad(\n",
    "    vocab[line], num_steps, vocab['<pad>']) for line in train_tokens])\n",
    "print(train_features.shape)"
   ]
  },
  {
   "cell_type": "markdown",
   "metadata": {},
   "source": [
    "### Question 3 [code] **(5 points)**\n",
    "Create data iterator ``train_iter``, at each iteration, a minibatch of examples are returned. Let's set the mini-batch size to 64.\n",
    "\n"
   ]
  },
  {
   "cell_type": "code",
   "execution_count": 14,
   "metadata": {},
   "outputs": [
    {
     "name": "stdout",
     "output_type": "stream",
     "text": [
      "X: torch.Size([64, 500]) , y: torch.Size([64])\n",
      "# batches: 391\n"
     ]
    }
   ],
   "source": [
    "### YOUR CODE HERE\n",
    "\n",
    "train_labels = torch.tensor(train_data[1]) # Convert the labels to a tensor\n",
    "\n",
    "\n",
    "\n",
    "train_iter = d2l.load_array((train_features, train_labels), 64)\n",
    "\n",
    "# Check the shapes of the batches\n",
    "for X, y in train_iter:\n",
    "    print('X:', X.shape, ', y:', y.shape)\n",
    "    break\n",
    "\n",
    "# Print the number of batches\n",
    "print('# batches:', len(train_iter))"
   ]
  },
  {
   "cell_type": "markdown",
   "metadata": {
    "colab_type": "text",
    "id": "PVpoDgU7CdXb"
   },
   "source": [
    "### Question 4 [code] **(5 points)**\n",
    "Finally, wrap up the above steps into the ``load_data_imdb`` function. It returns training and test data iterators and the vocabulary of the IMDb review dataset.\n"
   ]
  },
  {
   "cell_type": "code",
   "execution_count": 16,
   "metadata": {},
   "outputs": [],
   "source": [
    "#@save\n",
    "def load_data_imdb(batch_size, num_steps=500):\n",
    "\n",
    "\n",
    "    # Read training and testing data\n",
    "    train_data = read_imdb(data_dir, is_train=True)\n",
    "    test_data = read_imdb(data_dir, is_train=False)\n",
    "    \n",
    "    # Tokenize the reviews\n",
    "    train_tokens = d2l.tokenize(train_data[0], token='word')\n",
    "    test_tokens = d2l.tokenize(test_data[0], token='word')\n",
    "    \n",
    "    # Build the vocabulary based on training tokens\n",
    "    vocab = d2l.Vocab(train_tokens, min_freq=5, reserved_tokens=['<pad>'])\n",
    "    \n",
    "    # Convert reviews to indices and truncate/pad sequences to num_steps\n",
    "    train_features = torch.tensor([\n",
    "        d2l.truncate_pad(vocab[line], num_steps, vocab['<pad>']) for line in train_tokens\n",
    "    ])\n",
    "    \n",
    "    test_features = torch.tensor([\n",
    "        d2l.truncate_pad(vocab[line], num_steps, vocab['<pad>']) for line in test_tokens\n",
    "    ])\n",
    "    \n",
    "    # Convert labels to tensors\n",
    "    train_labels = torch.tensor(train_data[1])\n",
    "    test_labels = torch.tensor(test_data[1])\n",
    "    \n",
    "    # Create DataLoaders for training and test sets\n",
    "    train_iter = d2l.load_array((train_features, train_labels), batch_size)\n",
    "    test_iter = d2l.load_array((test_features, test_labels), batch_size)\n",
    "    \n",
    "    return train_iter, test_iter, vocab\n"
   ]
  },
  {
   "cell_type": "markdown",
   "metadata": {
    "colab_type": "text",
    "id": "2kAezpJ9CdXd"
   },
   "source": [
    "# Using RNN for sentiment analysis (30 points)\n",
    "Similar to word similarity and analogy tasks, pre-trained word vectors can also be applied to sentiment analysis. Given that the IMDb review dataset is relatively small, using text representations pre-trained on large-scale corpora can help mitigate model overfitting. Each token can be represented using the pre-trained GloVe model, and these token embeddings can be fed into a multilayer bidirectional RNN to generate a sequence representation of the text, which will then be transformed into sentiment analysis outputs. Later, we will explore an alternative architectural approach for the same downstream task."
   ]
  },
  {
   "cell_type": "markdown",
   "metadata": {},
   "source": [
    "### Question 5 [code] **(10 points)**\n",
    "In text classification tasks, such as sentiment analysis, a varying-length text sequence is transformed into fixed-length categorical labels. Following the instructions, please complete ``BiRNN`` class, each token in a text sequence receives its individual pre-trained GloVe representation through the embedding layer (``self.embedding``). The entire sequence is then encoded by a bidirectional RNN (``self.encoder``). Specifically, the hidden states from the last layer of the bidirectional LSTM, at both the initial and final time steps, are concatenated to form the representation of the text sequence. This representation is subsequently passed through a fully connected layer (``self.decoder``) to produce the final output categories, which in this case are \"positive\" and \"negative\"."
   ]
  },
  {
   "cell_type": "code",
   "execution_count": null,
   "metadata": {},
   "outputs": [],
   "source": [
    "batch_size = 64\n",
    "train_iter, test_iter, vocab = load_data_imdb(batch_size)"
   ]
  },
  {
   "cell_type": "code",
   "execution_count": null,
   "metadata": {},
   "outputs": [],
   "source": [
    "class BiRNN(nn.Module):\n",
    "    def __init__(self, vocab_size, embed_size, num_hiddens,\n",
    "                 num_layers, **kwargs):\n",
    "        super(BiRNN, self).__init__(**kwargs)\n",
    "        self.embedding = nn.Embedding(vocab_size, embed_size)\n",
    "        # Set `bidirectional` to True to get a bidirectional RNN\n",
    "        self.encoder = nn.LSTM(embed_size, num_hiddens, num_layers=num_layers,\n",
    "                                bidirectional=True)\n",
    "        self.decoder = nn.Linear(4 * num_hiddens, 2)\n",
    "\n",
    "    def forward(self, inputs):\n",
    "        # The shape of `inputs` is (batch size, no. of time steps). Because\n",
    "        # LSTM requires its input's first dimension to be the temporal\n",
    "        # dimension, the input is transposed before obtaining token\n",
    "        # representations. The output shape is (no. of time steps, batch size,\n",
    "        # word vector dimension)\n",
    "        \n",
    "        # Returns hidden states of the last hidden layer at different time\n",
    "        # steps. The shape of `outputs` is (no. of time steps, batch size,\n",
    "        # 2 * no. of hidden units)\n",
    "        \n",
    "        # Concatenate the hidden states at the initial and final time steps as\n",
    "        # the input of the fully connected layer. Its shape is (batch size,\n",
    "        # 4 * no. of hidden units)\n",
    "        \n",
    "        ### YOUR CODE HERE\n",
    "\n",
    "        ### END OF YOUR CODE\n",
    "\n",
    "        return outs"
   ]
  },
  {
   "cell_type": "markdown",
   "metadata": {},
   "source": [
    "Let’s construct a bidirectional RNN with two hidden layers to represent single text for sentiment analysis."
   ]
  },
  {
   "cell_type": "code",
   "execution_count": null,
   "metadata": {},
   "outputs": [],
   "source": [
    "embed_size, num_hiddens, num_layers, devices = 100, 100, 2, d2l.try_all_gpus()\n",
    "net = BiRNN(len(vocab), embed_size, num_hiddens, num_layers)\n",
    "\n",
    "def init_weights(module):\n",
    "    if type(module) == nn.Linear:\n",
    "        nn.init.xavier_uniform_(module.weight)\n",
    "    if type(module) == nn.LSTM:\n",
    "        for param in module._flat_weights_names:\n",
    "            if \"weight\" in param:\n",
    "                nn.init.xavier_uniform_(module._parameters[param])\n",
    "net.apply(init_weights)"
   ]
  },
  {
   "cell_type": "markdown",
   "metadata": {},
   "source": [
    "### Loading Pretrained Word Vectors"
   ]
  },
  {
   "cell_type": "code",
   "execution_count": null,
   "metadata": {},
   "outputs": [],
   "source": [
    "glove_embedding = d2l.TokenEmbedding('glove.6b.100d')\n",
    "embeds = glove_embedding[vocab.idx_to_token]\n",
    "embeds.shape # Print the shape of the vectors for all the tokens in the vocabulary."
   ]
  },
  {
   "cell_type": "markdown",
   "metadata": {},
   "source": [
    "We use these pretrained word vectors to represent tokens in the reviews and will not update these vectors during training"
   ]
  },
  {
   "cell_type": "code",
   "execution_count": null,
   "metadata": {},
   "outputs": [],
   "source": [
    "net.embedding.weight.data.copy_(embeds)\n",
    "net.embedding.weight.requires_grad = False"
   ]
  },
  {
   "cell_type": "markdown",
   "metadata": {},
   "source": [
    "### Question 6 [code] **(10 points)**\n",
    "After loading the pretrained word vectors, we can now start to train the model. Please use ``Adam`` optimizer and ``CrossEntropyLoss`` for training and draw a graph about your training loss, training acc and testing acc."
   ]
  },
  {
   "cell_type": "code",
   "execution_count": null,
   "metadata": {
    "scrolled": true
   },
   "outputs": [],
   "source": [
    "lr, num_epochs = 0.01, 5\n",
    "### YOUR CODE HERE\n",
    "\n",
    "### END OF YOUR CODE"
   ]
  },
  {
   "cell_type": "markdown",
   "metadata": {},
   "source": [
    "### Question 7 [code] **(10 points)**\n",
    "Once you have completed the training, it's time to evaluate your model's performance. Implement the function ``predict_sentiment`` to predict the sentiment of a text sequence using the trained model ``net``. Next, define the function ``cal_metrics`` to assess your model on the test set by calculating both accuracy and the F1-score, including precision and recall. Finally, print out the evaluation results. Save the prediction results for each test sample and submit it in the zip file."
   ]
  },
  {
   "cell_type": "code",
   "execution_count": null,
   "metadata": {},
   "outputs": [],
   "source": [
    "#@save\n",
    "def predict_sentiment(net, vocab, sequence):\n",
    "    \"\"\"Predict the sentiment of a text sequence.\"\"\"\n",
    "    ### YOUR CODE HERE\n",
    "\n",
    "    ### END OF YOUR CODE\n",
    "    return 'positive' if label == 1 else 'negative'"
   ]
  },
  {
   "cell_type": "code",
   "execution_count": null,
   "metadata": {},
   "outputs": [],
   "source": [
    "predict_sentiment(net, vocab, 'this movie is so great')"
   ]
  },
  {
   "cell_type": "code",
   "execution_count": null,
   "metadata": {},
   "outputs": [],
   "source": [
    "predict_sentiment(net, vocab, 'this movie is so bad')"
   ]
  },
  {
   "cell_type": "code",
   "execution_count": null,
   "metadata": {},
   "outputs": [],
   "source": [
    "def cal_metrics(): # you can define what input you need in this function\n",
    "    # Rember to output your prediction results and submit together in the zip file\n",
    "    # You can do it within this function, or you create a new function to save the output, both methods are fine\n",
    "    ### YOUR CODE HERE\n",
    "\n",
    "    ### END OF YOUR CODE\n",
    "\n",
    "    return F1_Score, precision, recall, accuracy"
   ]
  },
  {
   "cell_type": "code",
   "execution_count": null,
   "metadata": {},
   "outputs": [],
   "source": [
    "cal_metrics(net, test_iter)"
   ]
  },
  {
   "cell_type": "markdown",
   "metadata": {},
   "source": [
    "# Using CNN for sentiment analysis (20 points)\n",
    "Although CNNs were originally designed for computer vision, they have been widely adopted in natural language processing as well. Conceptually, a text sequence can be viewed as a one-dimensional image, allowing one-dimensional CNNs to capture local features, such as n-grams, within the text. We will use the textCNN model to demonstrate how to design a CNN architecture for representing a single text.\n",
    "\n",
    "Using one-dimensional convolution and max-over-time pooling, the textCNN model takes individual pre-trained token representations as input, then extracts and transforms these sequence representations for downstream tasks.\n",
    "\n",
    "For a single text sequence with $n$ tokens represented by $d$-dimensional vectors, the width, height, and number of channels of the input tensor are $n$, $1$, and $d$, respectively. The textCNN model processes the input as follows:\n",
    "\n",
    "1. Define multiple one-dimensional convolutional kernels and apply convolution operations on the inputs. Convolution kernels with varying widths capture local features across different numbers of adjacent tokens.\n",
    "2. Apply max-over-time pooling to all output channels, then concatenate the resulting scalar outputs into a vector.\n",
    "3. Pass the concatenated vector through a fully connected layer to generate the output categories. Dropout can be applied to reduce overfitting."
   ]
  },
  {
   "cell_type": "markdown",
   "metadata": {},
   "source": [
    "### Question 8 [code] **(10 points)**\n",
    "Implement the ``textCNN`` model class. Compared with the bidirectional RNN model in Section 2, besides replacing recurrent layers with convolutional layers, we also use two embedding layers: one with trainable weights and the other with fixed weights."
   ]
  },
  {
   "cell_type": "code",
   "execution_count": null,
   "metadata": {},
   "outputs": [],
   "source": [
    "batch_size = 64\n",
    "train_iter, test_iter, vocab = d2l.load_data_imdb(batch_size)"
   ]
  },
  {
   "cell_type": "code",
   "execution_count": null,
   "metadata": {},
   "outputs": [],
   "source": [
    "class TextCNN(nn.Module):\n",
    "    def __init__(self, vocab_size, embed_size, kernel_sizes, num_channels,\n",
    "                 **kwargs):\n",
    "        super(TextCNN, self).__init__(**kwargs)\n",
    "        self.embedding = nn.Embedding(vocab_size, embed_size)\n",
    "        # The embedding layer not to be trained\n",
    "        self.constant_embedding = nn.Embedding(vocab_size, embed_size)\n",
    "        self.dropout = nn.Dropout(0.5)\n",
    "        self.decoder = nn.Linear(sum(num_channels), 2)\n",
    "        # The max-over-time pooling layer has no parameters, so this instance\n",
    "        # can be shared\n",
    "        self.pool = nn.AdaptiveAvgPool1d(1)\n",
    "        self.relu = nn.ReLU()\n",
    "        # Create multiple one-dimensional convolutional layers\n",
    "        self.convs = nn.ModuleList()\n",
    "        for c, k in zip(num_channels, kernel_sizes):\n",
    "            self.convs.append(nn.Conv1d(2 * embed_size, c, k))\n",
    "\n",
    "    def forward(self, inputs):\n",
    "        # Concatenate two embedding layer outputs with shape (batch size, no.\n",
    "        # of tokens, token vector dimension) along vectors\n",
    "        \n",
    "        # Per the input format of one-dimensional convolutional layers,\n",
    "        # rearrange the tensor so that the second dimension stores channels\n",
    "        \n",
    "        # For each one-dimensional convolutional layer, after max-over-time\n",
    "        # pooling, a tensor of shape (batch size, no. of channels, 1) is\n",
    "        # obtained. Remove the last dimension and concatenate along channels\n",
    "        \n",
    "        ### YOUR CODE HERE\n",
    "\n",
    "        ### END OF YOUR CODE\n",
    "\n",
    "        return outputs"
   ]
  },
  {
   "cell_type": "code",
   "execution_count": null,
   "metadata": {},
   "outputs": [],
   "source": [
    "embed_size, kernel_sizes, nums_channels = 100, [3, 4, 5], [100, 100, 100]\n",
    "devices = d2l.try_all_gpus()\n",
    "net = TextCNN(len(vocab), embed_size, kernel_sizes, nums_channels)\n",
    "\n",
    "def init_weights(module):\n",
    "    if type(module) in (nn.Linear, nn.Conv1d):\n",
    "        nn.init.xavier_uniform_(module.weight)\n",
    "\n",
    "net.apply(init_weights)"
   ]
  },
  {
   "cell_type": "code",
   "execution_count": null,
   "metadata": {},
   "outputs": [],
   "source": [
    "glove_embedding = d2l.TokenEmbedding('glove.6b.100d')\n",
    "embeds = glove_embedding[vocab.idx_to_token]\n",
    "net.embedding.weight.data.copy_(embeds)\n",
    "net.constant_embedding.weight.data.copy_(embeds)\n",
    "net.constant_embedding.weight.requires_grad = False"
   ]
  },
  {
   "cell_type": "markdown",
   "metadata": {},
   "source": [
    "### Question 9 [code] **(10 points)**\n",
    "Similar to what we have done in Section 2 with RNN, train the CNN model with the same optimizer and loss function. Draw a graph about your training loss, training acc and testing acc. Use the prediction function you defined in Question 7 to evaluate your model performance."
   ]
  },
  {
   "cell_type": "code",
   "execution_count": null,
   "metadata": {},
   "outputs": [],
   "source": [
    "lr, num_epochs = 0.001, 5\n",
    "### YOUR CODE HERE\n",
    "\n",
    "### END OF YOUR CODE"
   ]
  },
  {
   "cell_type": "code",
   "execution_count": null,
   "metadata": {},
   "outputs": [],
   "source": [
    "predict_sentiment(net, vocab, 'this movie is so great')"
   ]
  },
  {
   "cell_type": "code",
   "execution_count": null,
   "metadata": {},
   "outputs": [],
   "source": [
    "predict_sentiment(net, vocab, 'this movie is so bad')"
   ]
  },
  {
   "cell_type": "code",
   "execution_count": null,
   "metadata": {},
   "outputs": [],
   "source": [
    "cal_metrics(net, test_iter)"
   ]
  },
  {
   "cell_type": "markdown",
   "metadata": {},
   "source": [
    "# Design Challenge (30 points)\n",
    "Now it's time to come up with your own model! You are free to decide what model you want to choose or what architecture you think is better for this task. You are also free to set all the hyperparameter for training (do consider the overfitting issue and the computing cost). From here we will see how important choosing/designing a better model architecture could be when building an NLP application in practice (however, there is no requirement for you to include such comparisons in your report).\n",
    "\n",
    "You are allowed to use external packages for this challenge, but we require that you fully understand the methods/techniques that you used, and you need to clearly explain such details in the submitted report. We will evaluate your system's performance on the held-out test set, which will only be released 48 hours before the deadline. Use your new system to generate the outputs. The system that achieves the highest F1 score will be announced as the winner for the challenge. We may perform further analysis/evaluations in case there is no clear winner based on the released test set.\n",
    "\n",
    "Let's summarize this challenge:"
   ]
  },
  {
   "cell_type": "markdown",
   "metadata": {},
   "source": [
    "(i) **[Model]** You are required to develop your own model for sentiment analysis, with no restrictions on the model architecture. You may choose to follow RNN/CNN structures or experiment with Transformer-based models. In your submitted report, you must provide a detailed explanation of your model along with the accompanying code. Additionally, you are required to submit your model so that we can reproduce your results.\n",
    "\n",
    "*_(10 points)_*\n",
    "\n",
    "(ii) **[Evaluation]** For a fair comparison, you must train your new model on the same dataset provided to you. After training, evaluate your model on the test set. You are required to report the **precision**, **recall**, **F1 scores**, and **accuracy** of your new model. Save the predicted outcome for the test set and include it in the submission.\n",
    "\n",
    "_Hint:_ You will be competing with other groups on the same test set. Groups with higher performance will receive more points. For instance, if your group ranks 1st among all groups, you will receive 15 points for this section.\n",
    "\n",
    "*_(15 points)_*\n",
    "\n",
    "(iii) **[Report]** You are required to submit a report for your model. The report must include, at a minimum, the following sections: Model Description, Training Settings (e.g., dataset, hyperparameters), Performance, Code to run the model, and a breakdown of how the work was divided among team members. You are encouraged to include any additional details you deem important. Instructions on how to run the code can either be included in a separate README file or integrated into the report, as long as they are clearly presented.\n",
    "\n",
    "Please provide a thorough explanation of the model or method you used for designing the new system, along with clear documentation on how to execute the code. We will review your code, and may request an interview if we have any questions about it.\n",
    "\n",
    "_Note:_ Reports, code, and README files that are of low quality or poorly written will be penalized, so please ensure they are well-organized and clearly formatted. If we are unable to reproduce your model or run your code, you will not receive any points for this challenge.\n",
    "\n",
    "*_(5 points)_*"
   ]
  },
  {
   "cell_type": "markdown",
   "metadata": {},
   "source": [
    "# Start your model in a different .py file with a README explaination."
   ]
  }
 ],
 "metadata": {
  "colab": {
   "name": "mini project.ipynb",
   "provenance": []
  },
  "kernelspec": {
   "display_name": "nlp",
   "language": "python",
   "name": "python3"
  },
  "language_info": {
   "codemirror_mode": {
    "name": "ipython",
    "version": 3
   },
   "file_extension": ".py",
   "mimetype": "text/x-python",
   "name": "python",
   "nbconvert_exporter": "python",
   "pygments_lexer": "ipython3",
   "version": "3.8.20"
  }
 },
 "nbformat": 4,
 "nbformat_minor": 4
}
